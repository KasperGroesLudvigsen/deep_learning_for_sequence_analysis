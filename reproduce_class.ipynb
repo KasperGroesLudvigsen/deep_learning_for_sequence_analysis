{
 "cells": [
  {
   "cell_type": "code",
   "execution_count": null,
   "id": "0240b79b-eba8-4412-a520-00af6e34b828",
   "metadata": {},
   "outputs": [],
   "source": [
    "import run\n",
    "\n",
    "params = {\n",
    "    \"experiment_desc\" : \"First run (Baseline model)\", # Used to keep track of my different experiments\n",
    "    \"experiment_name\" : \"experiment1\", # Used to keep track of my different experiments\n",
    "    \"interval\" : (0, 45), # includes sentences of length longer than 0th index, shorter than 1st index\n",
    "    \"test_size\" : 0.2,\n",
    "    \"validation_size\" : 0.2,\n",
    "    \"batchsize\" : 128, # Xu et al 2016: 128\n",
    "    \"token_type\" : \"class\", # should be \"class\" for word class or \"lemma\" for word lemma\n",
    "    \"corpus\" : \"1990\", # Dont change\n",
    "    \"skip_no_comma\" : False, # if True, sentences that do not contain at least 1 comma are discarded\n",
    "    \"comma_representation\" : \",\", # Dont change\n",
    "    \"max_norm\" : 5,\n",
    "    \"lr\" : 1e-3,\n",
    "    \"weight_decay\" : 0.0,\n",
    "    \"patience\" : 5, # if no improvement in validation loss after 'patience' epochs, training is terminated\n",
    "    \"epochs\" : 100,\n",
    "    \"num_embeddings\" : 45, # number of vectors in the embedding. Should correspond to number of unique tokens in vocabulary\n",
    "    \"embedding_dim\" : 256, # length of each word vector in the embedding\n",
    "    \"hidden_size\" : 512, # hidden_size argument in LSTM\n",
    "    \"loss\" : \"cel\", # should either be \"focal\" or \"cel\"\n",
    "    \"lstm_layers\" : 2,\n",
    "    \"big_punc\" : False,\n",
    "    \"num_unique_words\" : None # must always be supplied, but is only used if token_type is \"lemma\". Must be either 8000, 50000, 100000 or 200000 or None\n",
    "    }\n",
    "\n",
    "\n",
    "run.run_experiment(params)"
   ]
  }
 ],
 "metadata": {
  "kernelspec": {
   "display_name": "Python 3",
   "language": "python",
   "name": "python3"
  },
  "language_info": {
   "codemirror_mode": {
    "name": "ipython",
    "version": 3
   },
   "file_extension": ".py",
   "mimetype": "text/x-python",
   "name": "python",
   "nbconvert_exporter": "python",
   "pygments_lexer": "ipython3",
   "version": "3.8.3"
  }
 },
 "nbformat": 4,
 "nbformat_minor": 5
}
